{
 "cells": [
  {
   "cell_type": "markdown",
   "metadata": {},
   "source": [
    "Hypothesis Testing"
   ]
  },
  {
   "cell_type": "code",
   "execution_count": 1,
   "metadata": {},
   "outputs": [],
   "source": [
    "import pandas as pd\n",
    "import numpy as np\n",
    "import matplotlib.pyplot as plt\n",
    "from scipy.stats import chi2_contingency, norm\n",
    "from statsmodels.stats.weightstats import ztest\n",
    "import seaborn as sns"
   ]
  },
  {
   "cell_type": "code",
   "execution_count": 2,
   "metadata": {},
   "outputs": [],
   "source": [
    "import warnings\n",
    "warnings.filterwarnings('ignore')"
   ]
  },
  {
   "cell_type": "code",
   "execution_count": 3,
   "metadata": {},
   "outputs": [],
   "source": [
    "\n",
    "df = pd.read_csv('../data2/cleaned_data.csv', low_memory=False)"
   ]
  },
  {
   "cell_type": "code",
   "execution_count": 4,
   "metadata": {},
   "outputs": [
    {
     "data": {
      "text/plain": [
       "Unnamed: 0                  0\n",
       "UnderwrittenCoverID         0\n",
       "PolicyID                    0\n",
       "TransactionMonth            0\n",
       "IsVATRegistered             0\n",
       "Citizenship                 0\n",
       "LegalType                   0\n",
       "Title                       0\n",
       "Language                    0\n",
       "Bank                        0\n",
       "AccountType                 0\n",
       "MaritalStatus               0\n",
       "Gender                      0\n",
       "Country                     0\n",
       "Province                    0\n",
       "PostalCode                  0\n",
       "MainCrestaZone              0\n",
       "SubCrestaZone               0\n",
       "ItemType                    0\n",
       "mmcode                      0\n",
       "VehicleType                 0\n",
       "RegistrationYear            0\n",
       "make                        0\n",
       "Model                       0\n",
       "Cylinders                   0\n",
       "cubiccapacity               0\n",
       "kilowatts                   0\n",
       "bodytype                    0\n",
       "NumberOfDoors               0\n",
       "VehicleIntroDate            0\n",
       "CustomValueEstimate         0\n",
       "AlarmImmobiliser            0\n",
       "TrackingDevice              0\n",
       "CapitalOutstanding          0\n",
       "NewVehicle                  0\n",
       "WrittenOff                  0\n",
       "Rebuilt                     0\n",
       "Converted                   0\n",
       "SumInsured                  0\n",
       "TermFrequency               0\n",
       "CalculatedPremiumPerTerm    0\n",
       "ExcessSelected              0\n",
       "CoverCategory               0\n",
       "CoverType                   0\n",
       "CoverGroup                  0\n",
       "Section                     0\n",
       "Product                     0\n",
       "StatutoryClass              0\n",
       "StatutoryRiskType           0\n",
       "TotalPremium                0\n",
       "TotalClaims                 0\n",
       "dtype: int64"
      ]
     },
     "execution_count": 4,
     "metadata": {},
     "output_type": "execute_result"
    }
   ],
   "source": [
    "df.isnull().sum()"
   ]
  },
  {
   "cell_type": "code",
   "execution_count": 5,
   "metadata": {},
   "outputs": [
    {
     "name": "stdout",
     "output_type": "stream",
     "text": [
      "['Gauteng' 'KwaZulu-Natal' 'Mpumalanga' 'Eastern Cape' 'Western Cape'\n",
      " 'Limpopo' 'North West' 'Free State' 'Northern Cape']\n"
     ]
    }
   ],
   "source": [
    "# Display unique values in the 'Province' column\n",
    "print(df['Province'].unique())\n"
   ]
  },
  {
   "cell_type": "markdown",
   "metadata": {},
   "source": [
    "1. Selecting metrics"
   ]
  },
  {
   "cell_type": "code",
   "execution_count": 6,
   "metadata": {},
   "outputs": [],
   "source": [
    "df['ProfitMargin'] = df['TotalPremium'] - df['TotalClaims']"
   ]
  },
  {
   "cell_type": "markdown",
   "metadata": {},
   "source": [
    "2. Data Segmentation"
   ]
  },
  {
   "cell_type": "code",
   "execution_count": 7,
   "metadata": {},
   "outputs": [],
   "source": [
    "# Hypothesis 1: Risk differences across provinces\n",
    "provinces = df['Province'].unique()\n",
    "group_a_prov = df[df['Province'] == provinces[0]]['TotalClaims']\n",
    "group_b_prov = df[df['Province'] == provinces[1]]['TotalClaims']"
   ]
  },
  {
   "cell_type": "code",
   "execution_count": 8,
   "metadata": {},
   "outputs": [],
   "source": [
    "# Hypothesis 2: Risk differences between zip codes\n",
    "zipcodes = df['PostalCode'].unique()\n",
    "group_a_zip = df[df['PostalCode'] == zipcodes[0]]['TotalClaims']\n",
    "group_b_zip = df[df['PostalCode'] == zipcodes[1]]['TotalClaims']"
   ]
  },
  {
   "cell_type": "code",
   "execution_count": 9,
   "metadata": {},
   "outputs": [],
   "source": [
    "# Hypothesis 3: Margin difference between zip codes (Numerical - Z-test)\n",
    "group_a_margin = df[df['PostalCode'] == zipcodes[0]]['ProfitMargin']\n",
    "group_b_margin = df[df['PostalCode'] == zipcodes[1]]['ProfitMargin']"
   ]
  },
  {
   "cell_type": "code",
   "execution_count": 10,
   "metadata": {},
   "outputs": [],
   "source": [
    "# Hypothesis 4: Risk difference between Women and Men\n",
    "group_a_gender = df[df['Gender'] == 'Female']['TotalClaims']\n",
    "group_b_gender = df[df['Gender'] == 'Male']['TotalClaims']"
   ]
  },
  {
   "cell_type": "markdown",
   "metadata": {},
   "source": [
    "3. Statistical Testing"
   ]
  },
  {
   "cell_type": "code",
   "execution_count": 11,
   "metadata": {},
   "outputs": [],
   "source": [
    "# Z-Test for numerical data (e.g., TotalClaims and ProfitMargin)\n",
    "z_stat_prov, p_val_prov = ztest(group_a_prov, group_b_prov, alternative='two-sided')\n",
    "z_stat_zip, p_val_zip = ztest(group_a_zip, group_b_zip, alternative='two-sided')\n",
    "z_stat_margin, p_val_margin = ztest(group_a_margin, group_b_margin, alternative='two-sided')\n",
    "z_stat_gender, p_val_gender = ztest(group_a_gender, group_b_gender, alternative='two-sided')"
   ]
  },
  {
   "cell_type": "code",
   "execution_count": 12,
   "metadata": {},
   "outputs": [],
   "source": [
    "# Chi-Squared Test for categorical data\n",
    "# Hypothesis 1: Risk differences across provinces (Categorical - Chi-squared test)\n",
    "\n",
    "contingency_table_prov = pd.crosstab(df['Province'], df['StatutoryRiskType'])  \n",
    "chi2_stat_prov, p_val_chi2_prov, dof_prov, _ = chi2_contingency(contingency_table_prov)"
   ]
  },
  {
   "cell_type": "code",
   "execution_count": 13,
   "metadata": {},
   "outputs": [],
   "source": [
    "# Hypothesis 2: Risk differences between zip codes (Categorical - Chi-squared test)\n",
    "\n",
    "contingency_table_zip = pd.crosstab(df['PostalCode'], df['StatutoryRiskType'])  \n",
    "chi2_stat_zip, p_val_chi2_zip, dof_zip, _ = chi2_contingency(contingency_table_zip)"
   ]
  },
  {
   "cell_type": "markdown",
   "metadata": {},
   "source": [
    "4. Analyzing Results"
   ]
  },
  {
   "cell_type": "code",
   "execution_count": 30,
   "metadata": {},
   "outputs": [
    {
     "name": "stdout",
     "output_type": "stream",
     "text": [
      "Z-Test - Province Risk Difference: p-value = 0.19282381899062995\n",
      "Z-Test - Zip Code Risk Difference: p-value = nan\n",
      "Z-Test - Margin Difference between Zip Codes: p-value = 0.6267219156496311\n",
      "Z-Test - Risk Difference between Women and Men: p-value = 0.8041063687146345\n",
      "Chi-Squared Test - Province Risk Difference: p-value = 1.0\n",
      "Chi-Squared Test - Zip Code Risk Difference: p-value = 1.0\n"
     ]
    }
   ],
   "source": [
    "\n",
    "print(f'Z-Test - Province Risk Difference: p-value = {p_val_prov}')\n",
    "print(f'Z-Test - Zip Code Risk Difference: p-value = {p_val_zip}')\n",
    "print(f'Z-Test - Margin Difference between Zip Codes: p-value = {p_val_margin}')\n",
    "print(f'Z-Test - Risk Difference between Women and Men: p-value = {p_val_gender}')\n",
    "\n",
    "print(f'Chi-Squared Test - Province Risk Difference: p-value = {p_val_chi2_prov}')\n",
    "print(f'Chi-Squared Test - Zip Code Risk Difference: p-value = {p_val_chi2_zip}')"
   ]
  },
  {
   "cell_type": "markdown",
   "metadata": {},
   "source": [
    "Interpretation of results"
   ]
  },
  {
   "cell_type": "code",
   "execution_count": 31,
   "metadata": {},
   "outputs": [
    {
     "name": "stdout",
     "output_type": "stream",
     "text": [
      "Fail to reject the null hypothesis (p-value: 0.1928): No significant risk differences across provinces.\n"
     ]
    }
   ],
   "source": [
    "alpha = 0.05\n",
    "if p_val_prov < alpha:\n",
    "    print(f\"Reject the null hypothesis (p-value: {p_val_prov:.4f}): There are risk differences across provinces.\")\n",
    "else:\n",
    "    print(f\"Fail to reject the null hypothesis (p-value: {p_val_prov:.4f}): No significant risk differences across provinces.\")\n",
    "\n"
   ]
  },
  {
   "cell_type": "code",
   "execution_count": 32,
   "metadata": {},
   "outputs": [
    {
     "name": "stdout",
     "output_type": "stream",
     "text": [
      "Fail to reject the null hypothesis (p-value: nan): There are no risk differences between zip codes .\n"
     ]
    }
   ],
   "source": [
    "alpha = 0.05\n",
    "if p_val_zip < alpha:\n",
    "    print(f\"Reject the null hypothesis (p-value: {p_val_zip:.4f}): There are risk differences between zip codes.\")\n",
    "else:\n",
    "    print(f\"Fail to reject the null hypothesis (p-value: {p_val_zip:.4f}): There are no risk differences between zip codes .\")\n"
   ]
  },
  {
   "cell_type": "code",
   "execution_count": 33,
   "metadata": {},
   "outputs": [
    {
     "name": "stdout",
     "output_type": "stream",
     "text": [
      "Fail to reject the null hypothesis (p-value: 0.6267): There are no significant margin (profit) difference between zip codes.\n"
     ]
    }
   ],
   "source": [
    "alpha = 0.05\n",
    "if p_val_margin < alpha:\n",
    "    print(f\"Reject the null hypothesis (p-value: {p_val_margin:.4f}): There are significant margin (profit) difference between zip codes.\")\n",
    "else:\n",
    "    print(f\"Fail to reject the null hypothesis (p-value: {p_val_margin:.4f}): There are no significant margin (profit) difference between zip codes.\")\n"
   ]
  },
  {
   "cell_type": "code",
   "execution_count": 34,
   "metadata": {},
   "outputs": [
    {
     "name": "stdout",
     "output_type": "stream",
     "text": [
      "Fail to reject the null hypothesis (p-value: 0.8041): There are not significant risk difference between Women and Men.\n"
     ]
    }
   ],
   "source": [
    "alpha = 0.05\n",
    "if p_val_gender < alpha:\n",
    "    print(f\"Reject the null hypothesis (p-value: {p_val_gender:.4f}): There are significant risk difference between Women and Men.\")\n",
    "else:\n",
    "    print(f\"Fail to reject the null hypothesis (p-value: {p_val_gender:.4f}): There are not significant risk difference between Women and Men.\")\n"
   ]
  },
  {
   "cell_type": "code",
   "execution_count": 35,
   "metadata": {},
   "outputs": [
    {
     "name": "stdout",
     "output_type": "stream",
     "text": [
      "Fail to reject the null hypothesis (p-value: 1.0000): No significant risk differences across provinces.\n"
     ]
    }
   ],
   "source": [
    "alpha = 0.05\n",
    "if p_val_chi2_prov < alpha:\n",
    "    print(f\"Reject the null hypothesis (p-value: {p_val_chi2_prov:.4f}): There are risk differences across provinces.\")\n",
    "else:\n",
    "    print(f\"Fail to reject the null hypothesis (p-value: {p_val_chi2_prov:.4f}): No significant risk differences across provinces.\")\n"
   ]
  },
  {
   "cell_type": "code",
   "execution_count": 36,
   "metadata": {},
   "outputs": [
    {
     "name": "stdout",
     "output_type": "stream",
     "text": [
      "Fail to reject the null hypothesis (p-value: 1.0000): There are no risk differences between zip codes.\n"
     ]
    }
   ],
   "source": [
    "alpha = 0.05\n",
    "if p_val_chi2_zip < alpha:\n",
    "    print(f\"Reject the null hypothesis (p-value: {p_val_chi2_zip:.4f}): There are risk differences between zip codes.\")\n",
    "else:\n",
    "    print(f\"Fail to reject the null hypothesis (p-value: {p_val_chi2_zip:.4f}): There are no risk differences between zip codes.\")\n"
   ]
  },
  {
   "cell_type": "code",
   "execution_count": null,
   "metadata": {},
   "outputs": [],
   "source": []
  },
  {
   "cell_type": "code",
   "execution_count": null,
   "metadata": {},
   "outputs": [],
   "source": []
  },
  {
   "cell_type": "code",
   "execution_count": null,
   "metadata": {},
   "outputs": [],
   "source": []
  },
  {
   "cell_type": "code",
   "execution_count": null,
   "metadata": {},
   "outputs": [],
   "source": []
  }
 ],
 "metadata": {
  "kernelspec": {
   "display_name": "venv",
   "language": "python",
   "name": "python3"
  },
  "language_info": {
   "codemirror_mode": {
    "name": "ipython",
    "version": 3
   },
   "file_extension": ".py",
   "mimetype": "text/x-python",
   "name": "python",
   "nbconvert_exporter": "python",
   "pygments_lexer": "ipython3",
   "version": "3.11.7"
  }
 },
 "nbformat": 4,
 "nbformat_minor": 2
}
